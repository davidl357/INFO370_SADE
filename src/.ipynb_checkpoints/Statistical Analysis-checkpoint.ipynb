{
 "cells": [
  {
   "cell_type": "code",
   "execution_count": 2,
   "metadata": {},
   "outputs": [],
   "source": [
    "import pandas as pd\n",
    "import numpy as np\n",
    "import statistics as stats\n"
   ]
  },
  {
   "cell_type": "code",
   "execution_count": 3,
   "metadata": {},
   "outputs": [],
   "source": [
    "data = pd.read_csv(\"../data/80ratinglistings.csv\")\n",
    "\n",
    "# creates a list to hold all variables to get descriptive statistics on\n",
    "focusVariables = [\"accommodates\", \"bathrooms\", \"bedrooms\", \"beds\", \"price\", \"security_deposit\", \"cleaning_fee\", \n",
    "                   \"number_of_reviews\", \"review_scores_rating\", \"review_scores_cleanliness\", \"review_scores_checkin\", \n",
    "                   \"review_scores_communication\", \"review_scores_location\", \"review_scores_value\"]\n",
    "\n",
    "# creates an empty list to store the statistics\n",
    "descriptiveStats = []\n"
   ]
  },
  {
   "cell_type": "code",
   "execution_count": 15,
   "metadata": {
    "collapsed": true
   },
   "outputs": [],
   "source": [
    "# loops for each variable we are getting stats on to make an entry in the list for each\n",
    "# for variableNum in len(focusVariables):\n",
    "    # loops through each variable and calculates the statistics\n",
    "for variable in focusVariables:\n",
    "    vals = [x for x in data[variable] if str(x) != 'nan']\n",
    "    out = []\n",
    "    l = [',','$']\n",
    "    for x in vals:\n",
    "        if (isinstance(x, str) == True):\n",
    "            for char in l:\n",
    "                if char in x:\n",
    "                    x = x.replace(char,'')\n",
    "        out.append(x)\n",
    "    vals = list(map(float, out))\n",
    "    descriptiveStats.append({'Variable' : variable, 'min' : min(vals), 'max' : max(vals),\n",
    "                    'mean' : round(np.mean(vals), 2), 'median' : np.median(vals), \n",
    "                     'Standard Deviation' : round(stats.stdev(vals), 2)})\n",
    "    "
   ]
  },
  {
   "cell_type": "code",
   "execution_count": 16,
   "metadata": {},
   "outputs": [],
   "source": [
    "#takes the resulting list and converts into a df \n",
    "statsData = pd.DataFrame(descriptiveStats)\n",
    "\n",
    "statsData.to_csv('../data/airbnb_descriptive_stats.csv', index = False)\n"
   ]
  }
 ],
 "metadata": {
  "kernelspec": {
   "display_name": "Python 3",
   "language": "python",
   "name": "python3"
  },
  "language_info": {
   "codemirror_mode": {
    "name": "ipython",
    "version": 3
   },
   "file_extension": ".py",
   "mimetype": "text/x-python",
   "name": "python",
   "nbconvert_exporter": "python",
   "pygments_lexer": "ipython3",
   "version": "3.6.5"
  }
 },
 "nbformat": 4,
 "nbformat_minor": 2
}
