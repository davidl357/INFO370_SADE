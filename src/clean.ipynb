{
 "cells": [
  {
   "cell_type": "code",
   "execution_count": 1,
   "metadata": {},
   "outputs": [],
   "source": [
    "import pandas as pd\n",
    "import numpy as np\n",
    "import statistics as stats"
   ]
  },
  {
   "cell_type": "code",
   "execution_count": 2,
   "metadata": {},
   "outputs": [],
   "source": [
    "data = pd.read_csv(\"../data/listings.csv\")"
   ]
  },
  {
   "cell_type": "code",
   "execution_count": 4,
   "metadata": {},
   "outputs": [],
   "source": [
    "# list of columns of interest\n",
    "focusVariables = [\"id\", \"accommodates\", \"bathrooms\", \"bedrooms\", \"beds\", \"price\", \"security_deposit\", \"cleaning_fee\", \n",
    "                  \"number_of_reviews\", \"review_scores_rating\", \"review_scores_cleanliness\", \"review_scores_checkin\", \n",
    "                  \"review_scores_communication\", \"review_scores_location\", \"review_scores_value\"]\n",
    "\n",
    "# Copy only comlumns to keep\n",
    "cleanData = data[focusVariables].copy()"
   ]
  },
  {
   "cell_type": "code",
   "execution_count": 7,
   "metadata": {},
   "outputs": [],
   "source": [
    "# Removes '$', ',', ' ', and replaces with '' (empty)\n",
    "cleanData = cleanData.replace([\"\\$\", \",\", \" \"], \"\", regex=True)"
   ]
  },
  {
   "cell_type": "code",
   "execution_count": 10,
   "metadata": {},
   "outputs": [],
   "source": [
    "# Create copy of only data with 80 or higher review scores rating\n",
    "cleanDataTarget = cleanData[cleanData.review_scores_rating >= 80]"
   ]
  },
  {
   "cell_type": "code",
   "execution_count": 15,
   "metadata": {},
   "outputs": [],
   "source": [
    "# Export clean data to CSV\n",
    "export_filename = '../data/clean_listings.csv'\n",
    "cleanData.to_csv(export_filename, index=False)\n",
    "\n",
    "# Export clean data with 80 or higher review scores rating\n",
    "export_filename = '../data/target_clean_listings.csv'\n",
    "cleanDataTarget.to_csv(export_filename, index=False)"
   ]
  }
 ],
 "metadata": {
  "kernelspec": {
   "display_name": "Python 3",
   "language": "python",
   "name": "python3"
  },
  "language_info": {
   "codemirror_mode": {
    "name": "ipython",
    "version": 3
   },
   "file_extension": ".py",
   "mimetype": "text/x-python",
   "name": "python",
   "nbconvert_exporter": "python",
   "pygments_lexer": "ipython3",
   "version": "3.6.5"
  }
 },
 "nbformat": 4,
 "nbformat_minor": 2
}
